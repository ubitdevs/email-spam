{
 "cells": [
  {
   "cell_type": "code",
   "execution_count": 151,
   "metadata": {
    "executionInfo": {
     "elapsed": 3820,
     "status": "ok",
     "timestamp": 1719494314390,
     "user": {
      "displayName": "Raza Naqvi",
      "userId": "12146852269828556796"
     },
     "user_tz": -300
    },
    "id": "R5PTxKGPEZyY"
   },
   "outputs": [],
   "source": [
    "import pandas as pd\n",
    "import numpy as np\n",
    "import re\n",
    "import nltk\n",
    "from nltk.corpus import stopwords\n",
    "from nltk.tokenize import word_tokenize, sent_tokenize\n",
    "from nltk.stem import WordNetLemmatizer\n",
    "from sklearn.model_selection import train_test_split\n",
    "from imblearn.over_sampling import RandomOverSampler\n",
    "from sklearn.feature_extraction.text import CountVectorizer, TfidfVectorizer\n",
    "from sklearn.metrics import classification_report, confusion_matrix\n",
    "import seaborn as sns\n",
    "import matplotlib.pyplot as plt\n",
    "from gensim.models import Word2Vec\n",
    "from sklearn.preprocessing import MinMaxScaler\n",
    "from sklearn.pipeline import Pipeline\n",
    "import joblib\n",
    "import os"
   ]
  },
  {
   "cell_type": "code",
   "execution_count": 152,
   "metadata": {},
   "outputs": [
    {
     "name": "stderr",
     "output_type": "stream",
     "text": [
      "[nltk_data] Downloading package punkt to C:\\Users\\DELL/nltk_data...\n",
      "[nltk_data]   Package punkt is already up-to-date!\n",
      "[nltk_data] Downloading package punkt_tab to\n",
      "[nltk_data]     C:\\Users\\DELL/nltk_data...\n",
      "[nltk_data]   Package punkt_tab is already up-to-date!\n",
      "[nltk_data] Downloading package stopwords to\n",
      "[nltk_data]     C:\\Users\\DELL/nltk_data...\n",
      "[nltk_data]   Package stopwords is already up-to-date!\n",
      "[nltk_data] Downloading package wordnet to C:\\Users\\DELL/nltk_data...\n",
      "[nltk_data]   Package wordnet is already up-to-date!\n"
     ]
    },
    {
     "data": {
      "text/plain": [
       "True"
      ]
     },
     "execution_count": 152,
     "metadata": {},
     "output_type": "execute_result"
    }
   ],
   "source": [
    "nltk.download('punkt')\n",
    "nltk.download('punkt_tab')\n",
    "nltk.download('stopwords')\n",
    "nltk.download('wordnet')"
   ]
  },
  {
   "cell_type": "code",
   "execution_count": 153,
   "metadata": {
    "executionInfo": {
     "elapsed": 1276,
     "status": "ok",
     "timestamp": 1719494314391,
     "user": {
      "displayName": "Raza Naqvi",
      "userId": "12146852269828556796"
     },
     "user_tz": -300
    },
    "id": "x_vwtK1CEa5f"
   },
   "outputs": [],
   "source": [
    "df = pd.read_csv(\"./data/spam.csv\", encoding = \"latin1\")"
   ]
  },
  {
   "cell_type": "code",
   "execution_count": 154,
   "metadata": {
    "executionInfo": {
     "elapsed": 1069,
     "status": "ok",
     "timestamp": 1719494314403,
     "user": {
      "displayName": "Raza Naqvi",
      "userId": "12146852269828556796"
     },
     "user_tz": -300
    },
    "id": "2n3JY4IaEhma"
   },
   "outputs": [],
   "source": [
    "df = df[[\"v2\", \"v1\"]]"
   ]
  },
  {
   "cell_type": "code",
   "execution_count": 155,
   "metadata": {
    "executionInfo": {
     "elapsed": 1068,
     "status": "ok",
     "timestamp": 1719494314405,
     "user": {
      "displayName": "Raza Naqvi",
      "userId": "12146852269828556796"
     },
     "user_tz": -300
    },
    "id": "mwJkXYesKV2g"
   },
   "outputs": [],
   "source": [
    "df.rename(columns = {\"v2\": \"message\", \"v1\": \"label\"}, inplace = True)"
   ]
  },
  {
   "cell_type": "code",
   "execution_count": 156,
   "metadata": {
    "executionInfo": {
     "elapsed": 1062,
     "status": "ok",
     "timestamp": 1719494314406,
     "user": {
      "displayName": "Raza Naqvi",
      "userId": "12146852269828556796"
     },
     "user_tz": -300
    },
    "id": "1UxRvKDIKeRt"
   },
   "outputs": [
    {
     "name": "stderr",
     "output_type": "stream",
     "text": [
      "C:\\Users\\DELL\\AppData\\Local\\Temp\\ipykernel_7120\\254151828.py:1: FutureWarning: Downcasting behavior in `replace` is deprecated and will be removed in a future version. To retain the old behavior, explicitly call `result.infer_objects(copy=False)`. To opt-in to the future behavior, set `pd.set_option('future.no_silent_downcasting', True)`\n",
      "  df[\"label\"] = df[\"label\"].replace({\"ham\": 0, \"spam\": 1})\n"
     ]
    }
   ],
   "source": [
    "df[\"label\"] = df[\"label\"].replace({\"ham\": 0, \"spam\": 1})"
   ]
  },
  {
   "cell_type": "code",
   "execution_count": 157,
   "metadata": {
    "colab": {
     "base_uri": "https://localhost:8080/",
     "height": 424
    },
    "executionInfo": {
     "elapsed": 1062,
     "status": "ok",
     "timestamp": 1719494314407,
     "user": {
      "displayName": "Raza Naqvi",
      "userId": "12146852269828556796"
     },
     "user_tz": -300
    },
    "id": "-jpe3dOvK2AZ",
    "outputId": "113aed80-d2dd-44fb-d7c6-33ac21f4d337"
   },
   "outputs": [
    {
     "data": {
      "text/html": [
       "<div>\n",
       "<style scoped>\n",
       "    .dataframe tbody tr th:only-of-type {\n",
       "        vertical-align: middle;\n",
       "    }\n",
       "\n",
       "    .dataframe tbody tr th {\n",
       "        vertical-align: top;\n",
       "    }\n",
       "\n",
       "    .dataframe thead th {\n",
       "        text-align: right;\n",
       "    }\n",
       "</style>\n",
       "<table border=\"1\" class=\"dataframe\">\n",
       "  <thead>\n",
       "    <tr style=\"text-align: right;\">\n",
       "      <th></th>\n",
       "      <th>message</th>\n",
       "      <th>label</th>\n",
       "    </tr>\n",
       "  </thead>\n",
       "  <tbody>\n",
       "    <tr>\n",
       "      <th>0</th>\n",
       "      <td>Go until jurong point, crazy.. Available only ...</td>\n",
       "      <td>0</td>\n",
       "    </tr>\n",
       "    <tr>\n",
       "      <th>1</th>\n",
       "      <td>Ok lar... Joking wif u oni...</td>\n",
       "      <td>0</td>\n",
       "    </tr>\n",
       "    <tr>\n",
       "      <th>2</th>\n",
       "      <td>Free entry in 2 a wkly comp to win FA Cup fina...</td>\n",
       "      <td>1</td>\n",
       "    </tr>\n",
       "    <tr>\n",
       "      <th>3</th>\n",
       "      <td>U dun say so early hor... U c already then say...</td>\n",
       "      <td>0</td>\n",
       "    </tr>\n",
       "    <tr>\n",
       "      <th>4</th>\n",
       "      <td>Nah I don't think he goes to usf, he lives aro...</td>\n",
       "      <td>0</td>\n",
       "    </tr>\n",
       "    <tr>\n",
       "      <th>...</th>\n",
       "      <td>...</td>\n",
       "      <td>...</td>\n",
       "    </tr>\n",
       "    <tr>\n",
       "      <th>5567</th>\n",
       "      <td>This is the 2nd time we have tried 2 contact u...</td>\n",
       "      <td>1</td>\n",
       "    </tr>\n",
       "    <tr>\n",
       "      <th>5568</th>\n",
       "      <td>Will ï¿½_ b going to esplanade fr home?</td>\n",
       "      <td>0</td>\n",
       "    </tr>\n",
       "    <tr>\n",
       "      <th>5569</th>\n",
       "      <td>Pity, * was in mood for that. So...any other s...</td>\n",
       "      <td>0</td>\n",
       "    </tr>\n",
       "    <tr>\n",
       "      <th>5570</th>\n",
       "      <td>The guy did some bitching but I acted like i'd...</td>\n",
       "      <td>0</td>\n",
       "    </tr>\n",
       "    <tr>\n",
       "      <th>5571</th>\n",
       "      <td>Rofl. Its true to its name</td>\n",
       "      <td>0</td>\n",
       "    </tr>\n",
       "  </tbody>\n",
       "</table>\n",
       "<p>5572 rows × 2 columns</p>\n",
       "</div>"
      ],
      "text/plain": [
       "                                                message  label\n",
       "0     Go until jurong point, crazy.. Available only ...      0\n",
       "1                         Ok lar... Joking wif u oni...      0\n",
       "2     Free entry in 2 a wkly comp to win FA Cup fina...      1\n",
       "3     U dun say so early hor... U c already then say...      0\n",
       "4     Nah I don't think he goes to usf, he lives aro...      0\n",
       "...                                                 ...    ...\n",
       "5567  This is the 2nd time we have tried 2 contact u...      1\n",
       "5568            Will ï¿½_ b going to esplanade fr home?      0\n",
       "5569  Pity, * was in mood for that. So...any other s...      0\n",
       "5570  The guy did some bitching but I acted like i'd...      0\n",
       "5571                         Rofl. Its true to its name      0\n",
       "\n",
       "[5572 rows x 2 columns]"
      ]
     },
     "execution_count": 157,
     "metadata": {},
     "output_type": "execute_result"
    }
   ],
   "source": [
    "df"
   ]
  },
  {
   "cell_type": "code",
   "execution_count": 158,
   "metadata": {
    "cellView": "form",
    "colab": {
     "base_uri": "https://localhost:8080/",
     "height": 452
    },
    "executionInfo": {
     "elapsed": 1522,
     "status": "ok",
     "timestamp": 1719494315881,
     "user": {
      "displayName": "Raza Naqvi",
      "userId": "12146852269828556796"
     },
     "user_tz": -300
    },
    "id": "0Ygtfl-VLzZb",
    "outputId": "65cbfd7f-3a8e-4e84-be00-66c8acc9007b"
   },
   "outputs": [
    {
     "data": {
      "image/png": "[encoded data removed]",
      "text/plain": [
       "<Figure size 640x480 with 1 Axes>"
      ]
     },
     "metadata": {},
     "output_type": "display_data"
    }
   ],
   "source": [
    "# @title label\n",
    "\n",
    "from matplotlib import pyplot as plt\n",
    "df['label'].plot(kind='hist', bins=20, title='label')\n",
    "plt.gca().spines[['top', 'right',]].set_visible(False)"
   ]
  },
  {
   "cell_type": "code",
   "execution_count": 159,
   "metadata": {
    "executionInfo": {
     "elapsed": 26,
     "status": "ok",
     "timestamp": 1719494315881,
     "user": {
      "displayName": "Raza Naqvi",
      "userId": "12146852269828556796"
     },
     "user_tz": -300
    },
    "id": "S0Afo_elwUTc"
   },
   "outputs": [],
   "source": [
    "def clean_text(text):\n",
    "    text = re.sub(r\"(?<=\\d)\\.(?=\\d)\", \"\", text)\n",
    "    text = re.sub(r\"(?<=\\w)\\\\'(?=\\w)\", \"\", text)\n",
    "    text = re.sub(r\"(?<=\\w)\\'(?=\\w)\", \"\", text)\n",
    "    text = re.sub(r\"&lt;#&gt;\", \"\", text)\n",
    "    text = re.sub(r\"[^a-zA-Z0-9\\s]\", \" \", text)\n",
    "    text = re.sub(r\"\\s+\", \" \", text)\n",
    "    text = text.lower()\n",
    "    return text.strip()"
   ]
  },
  {
   "cell_type": "code",
   "execution_count": 160,
   "metadata": {
    "executionInfo": {
     "elapsed": 168,
     "status": "ok",
     "timestamp": 1719494316023,
     "user": {
      "displayName": "Raza Naqvi",
      "userId": "12146852269828556796"
     },
     "user_tz": -300
    },
    "id": "Nzh6r_f01fAn"
   },
   "outputs": [],
   "source": [
    "df[\"cleaned_message\"] = df[\"message\"].apply(clean_text)"
   ]
  },
  {
   "cell_type": "code",
   "execution_count": 161,
   "metadata": {
    "executionInfo": {
     "elapsed": 162,
     "status": "ok",
     "timestamp": 1719494316023,
     "user": {
      "displayName": "Raza Naqvi",
      "userId": "12146852269828556796"
     },
     "user_tz": -300
    },
    "id": "UTkluCdrLxbZ"
   },
   "outputs": [],
   "source": [
    "def preprocess_text(text):\n",
    "    text = \" \".join([WordNetLemmatizer().lemmatize(token) for token in word_tokenize(text) if token not in set(stopwords.words(\"english\"))])\n",
    "    return text.strip()"
   ]
  },
  {
   "cell_type": "code",
   "execution_count": 162,
   "metadata": {},
   "outputs": [
    {
     "data": {
      "text/html": [
       "<div>\n",
       "<style scoped>\n",
       "    .dataframe tbody tr th:only-of-type {\n",
       "        vertical-align: middle;\n",
       "    }\n",
       "\n",
       "    .dataframe tbody tr th {\n",
       "        vertical-align: top;\n",
       "    }\n",
       "\n",
       "    .dataframe thead th {\n",
       "        text-align: right;\n",
       "    }\n",
       "</style>\n",
       "<table border=\"1\" class=\"dataframe\">\n",
       "  <thead>\n",
       "    <tr style=\"text-align: right;\">\n",
       "      <th></th>\n",
       "      <th>message</th>\n",
       "      <th>label</th>\n",
       "      <th>cleaned_message</th>\n",
       "    </tr>\n",
       "  </thead>\n",
       "  <tbody>\n",
       "    <tr>\n",
       "      <th>0</th>\n",
       "      <td>Go until jurong point, crazy.. Available only ...</td>\n",
       "      <td>0</td>\n",
       "      <td>go until jurong point crazy available only in ...</td>\n",
       "    </tr>\n",
       "    <tr>\n",
       "      <th>1</th>\n",
       "      <td>Ok lar... Joking wif u oni...</td>\n",
       "      <td>0</td>\n",
       "      <td>ok lar joking wif u oni</td>\n",
       "    </tr>\n",
       "    <tr>\n",
       "      <th>2</th>\n",
       "      <td>Free entry in 2 a wkly comp to win FA Cup fina...</td>\n",
       "      <td>1</td>\n",
       "      <td>free entry in 2 a wkly comp to win fa cup fina...</td>\n",
       "    </tr>\n",
       "    <tr>\n",
       "      <th>3</th>\n",
       "      <td>U dun say so early hor... U c already then say...</td>\n",
       "      <td>0</td>\n",
       "      <td>u dun say so early hor u c already then say</td>\n",
       "    </tr>\n",
       "    <tr>\n",
       "      <th>4</th>\n",
       "      <td>Nah I don't think he goes to usf, he lives aro...</td>\n",
       "      <td>0</td>\n",
       "      <td>nah i dont think he goes to usf he lives aroun...</td>\n",
       "    </tr>\n",
       "    <tr>\n",
       "      <th>...</th>\n",
       "      <td>...</td>\n",
       "      <td>...</td>\n",
       "      <td>...</td>\n",
       "    </tr>\n",
       "    <tr>\n",
       "      <th>5567</th>\n",
       "      <td>This is the 2nd time we have tried 2 contact u...</td>\n",
       "      <td>1</td>\n",
       "      <td>this is the 2nd time we have tried 2 contact u...</td>\n",
       "    </tr>\n",
       "    <tr>\n",
       "      <th>5568</th>\n",
       "      <td>Will ï¿½_ b going to esplanade fr home?</td>\n",
       "      <td>0</td>\n",
       "      <td>will b going to esplanade fr home</td>\n",
       "    </tr>\n",
       "    <tr>\n",
       "      <th>5569</th>\n",
       "      <td>Pity, * was in mood for that. So...any other s...</td>\n",
       "      <td>0</td>\n",
       "      <td>pity was in mood for that so any other suggest...</td>\n",
       "    </tr>\n",
       "    <tr>\n",
       "      <th>5570</th>\n",
       "      <td>The guy did some bitching but I acted like i'd...</td>\n",
       "      <td>0</td>\n",
       "      <td>the guy did some bitching but i acted like id ...</td>\n",
       "    </tr>\n",
       "    <tr>\n",
       "      <th>5571</th>\n",
       "      <td>Rofl. Its true to its name</td>\n",
       "      <td>0</td>\n",
       "      <td>rofl its true to its name</td>\n",
       "    </tr>\n",
       "  </tbody>\n",
       "</table>\n",
       "<p>5572 rows × 3 columns</p>\n",
       "</div>"
      ],
      "text/plain": [
       "                                                message  label  \\\n",
       "0     Go until jurong point, crazy.. Available only ...      0   \n",
       "1                         Ok lar... Joking wif u oni...      0   \n",
       "2     Free entry in 2 a wkly comp to win FA Cup fina...      1   \n",
       "3     U dun say so early hor... U c already then say...      0   \n",
       "4     Nah I don't think he goes to usf, he lives aro...      0   \n",
       "...                                                 ...    ...   \n",
       "5567  This is the 2nd time we have tried 2 contact u...      1   \n",
       "5568            Will ï¿½_ b going to esplanade fr home?      0   \n",
       "5569  Pity, * was in mood for that. So...any other s...      0   \n",
       "5570  The guy did some bitching but I acted like i'd...      0   \n",
       "5571                         Rofl. Its true to its name      0   \n",
       "\n",
       "                                        cleaned_message  \n",
       "0     go until jurong point crazy available only in ...  \n",
       "1                               ok lar joking wif u oni  \n",
       "2     free entry in 2 a wkly comp to win fa cup fina...  \n",
       "3           u dun say so early hor u c already then say  \n",
       "4     nah i dont think he goes to usf he lives aroun...  \n",
       "...                                                 ...  \n",
       "5567  this is the 2nd time we have tried 2 contact u...  \n",
       "5568                  will b going to esplanade fr home  \n",
       "5569  pity was in mood for that so any other suggest...  \n",
       "5570  the guy did some bitching but i acted like id ...  \n",
       "5571                          rofl its true to its name  \n",
       "\n",
       "[5572 rows x 3 columns]"
      ]
     },
     "execution_count": 162,
     "metadata": {},
     "output_type": "execute_result"
    }
   ],
   "source": [
    "df"
   ]
  },
  {
   "cell_type": "code",
   "execution_count": 163,
   "metadata": {
    "executionInfo": {
     "elapsed": 24301,
     "status": "ok",
     "timestamp": 1719494340163,
     "user": {
      "displayName": "Raza Naqvi",
      "userId": "12146852269828556796"
     },
     "user_tz": -300
    },
    "id": "cX6_fcf3Ofhk"
   },
   "outputs": [],
   "source": [
    "df[\"preprocessed_message\"] = df[\"cleaned_message\"].apply(preprocess_text)"
   ]
  },
  {
   "cell_type": "code",
   "execution_count": 164,
   "metadata": {
    "executionInfo": {
     "elapsed": 31,
     "status": "ok",
     "timestamp": 1719494340164,
     "user": {
      "displayName": "Raza Naqvi",
      "userId": "12146852269828556796"
     },
     "user_tz": -300
    },
    "id": "0fg8IWyzzmd4"
   },
   "outputs": [],
   "source": [
    "df = df.drop_duplicates()"
   ]
  },
  {
   "cell_type": "code",
   "execution_count": 165,
   "metadata": {
    "executionInfo": {
     "elapsed": 29,
     "status": "ok",
     "timestamp": 1719494340164,
     "user": {
      "displayName": "Raza Naqvi",
      "userId": "12146852269828556796"
     },
     "user_tz": -300
    },
    "id": "7b7zO-T4kJOg"
   },
   "outputs": [],
   "source": [
    "df = df[~(df[\"preprocessed_message\"].str.len() == 0)]"
   ]
  },
  {
   "cell_type": "code",
   "execution_count": 166,
   "metadata": {
    "executionInfo": {
     "elapsed": 27,
     "status": "ok",
     "timestamp": 1719494340164,
     "user": {
      "displayName": "Raza Naqvi",
      "userId": "12146852269828556796"
     },
     "user_tz": -300
    },
    "id": "jivlv5GUk7fX"
   },
   "outputs": [],
   "source": [
    "df = df[~(df[\"preprocessed_message\"].str.split().apply(len) <= 1)]"
   ]
  },
  {
   "cell_type": "code",
   "execution_count": 167,
   "metadata": {
    "colab": {
     "base_uri": "https://localhost:8080/",
     "height": 545
    },
    "executionInfo": {
     "elapsed": 27,
     "status": "ok",
     "timestamp": 1719494340165,
     "user": {
      "displayName": "Raza Naqvi",
      "userId": "12146852269828556796"
     },
     "user_tz": -300
    },
    "id": "qkVcWpdHOx5v",
    "outputId": "62e8b98f-9a94-4446-ad57-6a652d367a83"
   },
   "outputs": [
    {
     "data": {
      "text/html": [
       "<div>\n",
       "<style scoped>\n",
       "    .dataframe tbody tr th:only-of-type {\n",
       "        vertical-align: middle;\n",
       "    }\n",
       "\n",
       "    .dataframe tbody tr th {\n",
       "        vertical-align: top;\n",
       "    }\n",
       "\n",
       "    .dataframe thead th {\n",
       "        text-align: right;\n",
       "    }\n",
       "</style>\n",
       "<table border=\"1\" class=\"dataframe\">\n",
       "  <thead>\n",
       "    <tr style=\"text-align: right;\">\n",
       "      <th></th>\n",
       "      <th>message</th>\n",
       "      <th>label</th>\n",
       "      <th>cleaned_message</th>\n",
       "      <th>preprocessed_message</th>\n",
       "    </tr>\n",
       "  </thead>\n",
       "  <tbody>\n",
       "    <tr>\n",
       "      <th>0</th>\n",
       "      <td>Go until jurong point, crazy.. Available only ...</td>\n",
       "      <td>0</td>\n",
       "      <td>go until jurong point crazy available only in ...</td>\n",
       "      <td>go jurong point crazy available bugis n great ...</td>\n",
       "    </tr>\n",
       "    <tr>\n",
       "      <th>1</th>\n",
       "      <td>Ok lar... Joking wif u oni...</td>\n",
       "      <td>0</td>\n",
       "      <td>ok lar joking wif u oni</td>\n",
       "      <td>ok lar joking wif u oni</td>\n",
       "    </tr>\n",
       "    <tr>\n",
       "      <th>2</th>\n",
       "      <td>Free entry in 2 a wkly comp to win FA Cup fina...</td>\n",
       "      <td>1</td>\n",
       "      <td>free entry in 2 a wkly comp to win fa cup fina...</td>\n",
       "      <td>free entry 2 wkly comp win fa cup final tkts 2...</td>\n",
       "    </tr>\n",
       "    <tr>\n",
       "      <th>3</th>\n",
       "      <td>U dun say so early hor... U c already then say...</td>\n",
       "      <td>0</td>\n",
       "      <td>u dun say so early hor u c already then say</td>\n",
       "      <td>u dun say early hor u c already say</td>\n",
       "    </tr>\n",
       "    <tr>\n",
       "      <th>4</th>\n",
       "      <td>Nah I don't think he goes to usf, he lives aro...</td>\n",
       "      <td>0</td>\n",
       "      <td>nah i dont think he goes to usf he lives aroun...</td>\n",
       "      <td>nah dont think go usf life around though</td>\n",
       "    </tr>\n",
       "    <tr>\n",
       "      <th>...</th>\n",
       "      <td>...</td>\n",
       "      <td>...</td>\n",
       "      <td>...</td>\n",
       "      <td>...</td>\n",
       "    </tr>\n",
       "    <tr>\n",
       "      <th>5567</th>\n",
       "      <td>This is the 2nd time we have tried 2 contact u...</td>\n",
       "      <td>1</td>\n",
       "      <td>this is the 2nd time we have tried 2 contact u...</td>\n",
       "      <td>2nd time tried 2 contact u u 750 pound prize 2...</td>\n",
       "    </tr>\n",
       "    <tr>\n",
       "      <th>5568</th>\n",
       "      <td>Will ï¿½_ b going to esplanade fr home?</td>\n",
       "      <td>0</td>\n",
       "      <td>will b going to esplanade fr home</td>\n",
       "      <td>b going esplanade fr home</td>\n",
       "    </tr>\n",
       "    <tr>\n",
       "      <th>5569</th>\n",
       "      <td>Pity, * was in mood for that. So...any other s...</td>\n",
       "      <td>0</td>\n",
       "      <td>pity was in mood for that so any other suggest...</td>\n",
       "      <td>pity mood suggestion</td>\n",
       "    </tr>\n",
       "    <tr>\n",
       "      <th>5570</th>\n",
       "      <td>The guy did some bitching but I acted like i'd...</td>\n",
       "      <td>0</td>\n",
       "      <td>the guy did some bitching but i acted like id ...</td>\n",
       "      <td>guy bitching acted like id interested buying s...</td>\n",
       "    </tr>\n",
       "    <tr>\n",
       "      <th>5571</th>\n",
       "      <td>Rofl. Its true to its name</td>\n",
       "      <td>0</td>\n",
       "      <td>rofl its true to its name</td>\n",
       "      <td>rofl true name</td>\n",
       "    </tr>\n",
       "  </tbody>\n",
       "</table>\n",
       "<p>5087 rows × 4 columns</p>\n",
       "</div>"
      ],
      "text/plain": [
       "                                                message  label  \\\n",
       "0     Go until jurong point, crazy.. Available only ...      0   \n",
       "1                         Ok lar... Joking wif u oni...      0   \n",
       "2     Free entry in 2 a wkly comp to win FA Cup fina...      1   \n",
       "3     U dun say so early hor... U c already then say...      0   \n",
       "4     Nah I don't think he goes to usf, he lives aro...      0   \n",
       "...                                                 ...    ...   \n",
       "5567  This is the 2nd time we have tried 2 contact u...      1   \n",
       "5568            Will ï¿½_ b going to esplanade fr home?      0   \n",
       "5569  Pity, * was in mood for that. So...any other s...      0   \n",
       "5570  The guy did some bitching but I acted like i'd...      0   \n",
       "5571                         Rofl. Its true to its name      0   \n",
       "\n",
       "                                        cleaned_message  \\\n",
       "0     go until jurong point crazy available only in ...   \n",
       "1                               ok lar joking wif u oni   \n",
       "2     free entry in 2 a wkly comp to win fa cup fina...   \n",
       "3           u dun say so early hor u c already then say   \n",
       "4     nah i dont think he goes to usf he lives aroun...   \n",
       "...                                                 ...   \n",
       "5567  this is the 2nd time we have tried 2 contact u...   \n",
       "5568                  will b going to esplanade fr home   \n",
       "5569  pity was in mood for that so any other suggest...   \n",
       "5570  the guy did some bitching but i acted like id ...   \n",
       "5571                          rofl its true to its name   \n",
       "\n",
       "                                   preprocessed_message  \n",
       "0     go jurong point crazy available bugis n great ...  \n",
       "1                               ok lar joking wif u oni  \n",
       "2     free entry 2 wkly comp win fa cup final tkts 2...  \n",
       "3                   u dun say early hor u c already say  \n",
       "4              nah dont think go usf life around though  \n",
       "...                                                 ...  \n",
       "5567  2nd time tried 2 contact u u 750 pound prize 2...  \n",
       "5568                          b going esplanade fr home  \n",
       "5569                               pity mood suggestion  \n",
       "5570  guy bitching acted like id interested buying s...  \n",
       "5571                                     rofl true name  \n",
       "\n",
       "[5087 rows x 4 columns]"
      ]
     },
     "execution_count": 167,
     "metadata": {},
     "output_type": "execute_result"
    }
   ],
   "source": [
    "df"
   ]
  },
  {
   "cell_type": "code",
   "execution_count": 168,
   "metadata": {
    "colab": {
     "base_uri": "https://localhost:8080/"
    },
    "executionInfo": {
     "elapsed": 12,
     "status": "ok",
     "timestamp": 1719494340165,
     "user": {
      "displayName": "Raza Naqvi",
      "userId": "12146852269828556796"
     },
     "user_tz": -300
    },
    "id": "-qHy1xUMm5_2",
    "outputId": "ade4326f-6264-4296-9fcd-654784998c23"
   },
   "outputs": [
    {
     "name": "stdout",
     "output_type": "stream",
     "text": [
      "Dude just saw a parked car with its sunroof popped up. Sux\n",
      "dude just saw a parked car with its sunroof popped up sux\n",
      "dude saw parked car sunroof popped sux\n",
      "\n",
      "Get ready to put on your excellent sub face :)\n",
      "get ready to put on your excellent sub face\n",
      "get ready put excellent sub face\n",
      "\n",
      "Tmrw. Im finishing 9 doors\n",
      "tmrw im finishing 9 doors\n",
      "tmrw im finishing 9 door\n",
      "\n",
      "The  &lt;#&gt; g that i saw a few days ago, the guy wants sell wifi only for  &lt;#&gt;  and with 3g for  &lt;#&gt; . That's why i blanked him.\n",
      "the g that i saw a few days ago the guy wants sell wifi only for and with 3g for thats why i blanked him\n",
      "g saw day ago guy want sell wifi 3g thats blanked\n",
      "\n",
      "whatever, im pretty pissed off.\n",
      "whatever im pretty pissed off\n",
      "whatever im pretty pissed\n",
      "\n",
      "I dont have that much image in class.\n",
      "i dont have that much image in class\n",
      "dont much image class\n",
      "\n",
      "No:-)i got rumour that you going to buy apartment in chennai:-)\n",
      "no i got rumour that you going to buy apartment in chennai\n",
      "got rumour going buy apartment chennai\n",
      "\n",
      "Near kalainar tv office.thenampet\n",
      "near kalainar tv office thenampet\n",
      "near kalainar tv office thenampet\n",
      "\n",
      "Ur cash-balance is currently 500 pounds - to maximize ur cash-in now send GO to 86688 only 150p/msg. CC 08718720201 HG/Suite342/2Lands Row/W1J6HL\n",
      "ur cash balance is currently 500 pounds to maximize ur cash in now send go to 86688 only 150p msg cc 08718720201 hg suite342 2lands row w1j6hl\n",
      "ur cash balance currently 500 pound maximize ur cash send go 86688 150p msg cc 08718720201 hg suite342 2lands row w1j6hl\n",
      "\n",
      "SMS AUCTION - A BRAND NEW Nokia 7250 is up 4 auction today! Auction is FREE 2 join & take part! Txt NOKIA to 86021 now! HG/Suite342/2Lands Row/W1J6HL\n",
      "sms auction a brand new nokia 7250 is up 4 auction today auction is free 2 join take part txt nokia to 86021 now hg suite342 2lands row w1j6hl\n",
      "sm auction brand new nokia 7250 4 auction today auction free 2 join take part txt nokia 86021 hg suite342 2lands row w1j6hl\n",
      "\n",
      "My sis is catching e show in e afternoon so i'm not watching w her. So c u wan 2 watch today or tmr lor.\n",
      "my sis is catching e show in e afternoon so im not watching w her so c u wan 2 watch today or tmr lor\n",
      "si catching e show e afternoon im watching w c u wan 2 watch today tmr lor\n",
      "\n"
     ]
    }
   ],
   "source": [
    "for i in range(1490, 1501):\n",
    "    print(df.iloc[i][\"message\"])\n",
    "    print(df.iloc[i][\"cleaned_message\"])\n",
    "    print(df.iloc[i][\"preprocessed_message\"])\n",
    "    print()"
   ]
  },
  {
   "cell_type": "markdown",
   "metadata": {
    "id": "kMaz3OwJVjMu"
   },
   "source": [
    "# Count Vectorizer"
   ]
  },
  {
   "cell_type": "code",
   "execution_count": 169,
   "metadata": {
    "executionInfo": {
     "elapsed": 965,
     "status": "ok",
     "timestamp": 1719494341121,
     "user": {
      "displayName": "Raza Naqvi",
      "userId": "12146852269828556796"
     },
     "user_tz": -300
    },
    "id": "EIn5jpbiTLmq"
   },
   "outputs": [],
   "source": [
    "count_vectorizer = CountVectorizer(max_features = 5000, binary = True, ngram_range = (1, 3))\n",
    "\n",
    "X = count_vectorizer.fit_transform(list(df[\"preprocessed_message\"])).toarray()\n",
    "\n",
    "y = df[\"label\"].values"
   ]
  },
  {
   "cell_type": "code",
   "execution_count": 170,
   "metadata": {
    "executionInfo": {
     "elapsed": 3,
     "status": "ok",
     "timestamp": 1719494341121,
     "user": {
      "displayName": "Raza Naqvi",
      "userId": "12146852269828556796"
     },
     "user_tz": -300
    },
    "id": "yt6INP9PURh6"
   },
   "outputs": [],
   "source": [
    "X_train, X_test, y_train, y_test = train_test_split(X, y, test_size = 0.2, random_state = 0)"
   ]
  },
  {
   "cell_type": "code",
   "execution_count": 171,
   "metadata": {
    "colab": {
     "base_uri": "https://localhost:8080/",
     "height": 605
    },
    "executionInfo": {
     "elapsed": 1462,
     "status": "ok",
     "timestamp": 1719494382060,
     "user": {
      "displayName": "Raza Naqvi",
      "userId": "12146852269828556796"
     },
     "user_tz": -300
    },
    "id": "s2eywTeHVl73",
    "outputId": "dfa1dc18-b214-4a24-bc19-097b5223d707"
   },
   "outputs": [
    {
     "name": "stdout",
     "output_type": "stream",
     "text": [
      "              precision    recall  f1-score   support\n",
      "\n",
      "           0       0.99      0.99      0.99       885\n",
      "           1       0.96      0.93      0.95       133\n",
      "\n",
      "    accuracy                           0.99      1018\n",
      "   macro avg       0.98      0.96      0.97      1018\n",
      "weighted avg       0.99      0.99      0.99      1018\n",
      "\n"
     ]
    },
    {
     "data": {
      "image/png": "[encoded data removed]",
      "text/plain": [
       "<Figure size 640x480 with 2 Axes>"
      ]
     },
     "metadata": {},
     "output_type": "display_data"
    }
   ],
   "source": [
    "from sklearn.naive_bayes import MultinomialNB\n",
    "\n",
    "naive_bayes_classifier = MultinomialNB()\n",
    "\n",
    "naive_bayes_classifier.fit(X_train, y_train)\n",
    "\n",
    "predictions = naive_bayes_classifier.predict(X_test)\n",
    "\n",
    "print(classification_report(y_test, predictions))\n",
    "\n",
    "sns.heatmap(confusion_matrix(y_test, predictions), annot = True, fmt = \"d\")\n",
    "plt.xlabel(\"Predicted Classes\")\n",
    "plt.ylabel(\"True Classes\")\n",
    "plt.show()"
   ]
  },
  {
   "cell_type": "markdown",
   "metadata": {
    "id": "mAbH4cG-bUmk"
   },
   "source": [
    "# TF-IDF"
   ]
  },
  {
   "cell_type": "code",
   "execution_count": 172,
   "metadata": {
    "executionInfo": {
     "elapsed": 999,
     "status": "ok",
     "timestamp": 1719494385229,
     "user": {
      "displayName": "Raza Naqvi",
      "userId": "12146852269828556796"
     },
     "user_tz": -300
    },
    "id": "jjgOT4YMX9pc"
   },
   "outputs": [],
   "source": [
    "tf_idf_vectorizer = TfidfVectorizer(max_features = 5000, ngram_range = (1, 3))\n",
    "\n",
    "X = tf_idf_vectorizer.fit_transform(list(df[\"preprocessed_message\"])).toarray()\n",
    "\n",
    "y = df[\"label\"].values"
   ]
  },
  {
   "cell_type": "code",
   "execution_count": 173,
   "metadata": {
    "executionInfo": {
     "elapsed": 3,
     "status": "ok",
     "timestamp": 1719494385229,
     "user": {
      "displayName": "Raza Naqvi",
      "userId": "12146852269828556796"
     },
     "user_tz": -300
    },
    "id": "6T4pMxyLbqW8"
   },
   "outputs": [],
   "source": [
    "X_train, X_test, y_train, y_test = train_test_split(X, y, test_size = 0.2, random_state = 0)"
   ]
  },
  {
   "cell_type": "code",
   "execution_count": 174,
   "metadata": {
    "colab": {
     "base_uri": "https://localhost:8080/",
     "height": 605
    },
    "executionInfo": {
     "elapsed": 808,
     "status": "ok",
     "timestamp": 1719494386035,
     "user": {
      "displayName": "Raza Naqvi",
      "userId": "12146852269828556796"
     },
     "user_tz": -300
    },
    "id": "mwvT0qyCb8QJ",
    "outputId": "90136637-d145-4402-e2e4-b393f7f63c8b"
   },
   "outputs": [
    {
     "name": "stdout",
     "output_type": "stream",
     "text": [
      "              precision    recall  f1-score   support\n",
      "\n",
      "           0       0.97      1.00      0.99       885\n",
      "           1       1.00      0.82      0.90       133\n",
      "\n",
      "    accuracy                           0.98      1018\n",
      "   macro avg       0.99      0.91      0.94      1018\n",
      "weighted avg       0.98      0.98      0.98      1018\n",
      "\n"
     ]
    },
    {
     "data": {
      "image/png": "[encoded data removed]",
      "text/plain": [
       "<Figure size 640x480 with 2 Axes>"
      ]
     },
     "metadata": {},
     "output_type": "display_data"
    }
   ],
   "source": [
    "naive_bayes_classifier = MultinomialNB()\n",
    "\n",
    "naive_bayes_classifier.fit(X_train, y_train)\n",
    "\n",
    "predictions = naive_bayes_classifier.predict(X_test)\n",
    "\n",
    "print(classification_report(y_test, predictions))\n",
    "\n",
    "sns.heatmap(confusion_matrix(y_test, predictions), annot = True, fmt = \"d\")\n",
    "plt.xlabel(\"Predicted Classes\")\n",
    "plt.ylabel(\"True Classes\")\n",
    "plt.show()"
   ]
  },
  {
   "cell_type": "markdown",
   "metadata": {
    "id": "vFVMvITGeHqk"
   },
   "source": [
    "# Word2Vec\n"
   ]
  },
  {
   "cell_type": "code",
   "execution_count": 175,
   "metadata": {
    "executionInfo": {
     "elapsed": 903,
     "status": "ok",
     "timestamp": 1719494386901,
     "user": {
      "displayName": "Raza Naqvi",
      "userId": "12146852269828556796"
     },
     "user_tz": -300
    },
    "id": "OwcSLVd1osWN"
   },
   "outputs": [],
   "source": [
    "tokenized_sentences = [word_tokenize(sentence) for sentence in list(df[\"preprocessed_message\"])]"
   ]
  },
  {
   "cell_type": "code",
   "execution_count": 176,
   "metadata": {
    "colab": {
     "base_uri": "https://localhost:8080/"
    },
    "executionInfo": {
     "elapsed": 56,
     "status": "ok",
     "timestamp": 1719494386901,
     "user": {
      "displayName": "Raza Naqvi",
      "userId": "12146852269828556796"
     },
     "user_tz": -300
    },
    "id": "qqET5zsXp8xU",
    "outputId": "ee11ceb4-19fc-47e9-b899-305b35d0a39c"
   },
   "outputs": [
    {
     "data": {
      "text/plain": [
       "['u', 'dun', 'say', 'early', 'hor', 'u', 'c', 'already', 'say']"
      ]
     },
     "execution_count": 176,
     "metadata": {},
     "output_type": "execute_result"
    }
   ],
   "source": [
    "tokenized_sentences[3]"
   ]
  },
  {
   "cell_type": "code",
   "execution_count": 177,
   "metadata": {
    "executionInfo": {
     "elapsed": 712,
     "status": "ok",
     "timestamp": 1719494387610,
     "user": {
      "displayName": "Raza Naqvi",
      "userId": "12146852269828556796"
     },
     "user_tz": -300
    },
    "id": "D8ADlicOqyzI"
   },
   "outputs": [],
   "source": [
    "model = Word2Vec(sentences = tokenized_sentences, window = 5, min_count = 1)"
   ]
  },
  {
   "cell_type": "code",
   "execution_count": 178,
   "metadata": {
    "colab": {
     "base_uri": "https://localhost:8080/"
    },
    "executionInfo": {
     "elapsed": 51,
     "status": "ok",
     "timestamp": 1719494387610,
     "user": {
      "displayName": "Raza Naqvi",
      "userId": "12146852269828556796"
     },
     "user_tz": -300
    },
    "id": "pBI0yhHRwO7G",
    "outputId": "2a12e835-747a-4368-979c-1f853eabe58c"
   },
   "outputs": [],
   "source": [
    "model.build_vocab(tokenized_sentences)"
   ]
  },
  {
   "cell_type": "code",
   "execution_count": 179,
   "metadata": {
    "colab": {
     "base_uri": "https://localhost:8080/"
    },
    "executionInfo": {
     "elapsed": 900,
     "status": "ok",
     "timestamp": 1719494388502,
     "user": {
      "displayName": "Raza Naqvi",
      "userId": "12146852269828556796"
     },
     "user_tz": -300
    },
    "id": "LORa5miDwkjS",
    "outputId": "c558f24d-a15d-421d-f4ea-44b8cdf2d695"
   },
   "outputs": [
    {
     "data": {
      "text/plain": [
       "(224894, 243350)"
      ]
     },
     "execution_count": 179,
     "metadata": {},
     "output_type": "execute_result"
    }
   ],
   "source": [
    "model.train(tokenized_sentences, total_examples = model.corpus_count, epochs = model.epochs)"
   ]
  },
  {
   "cell_type": "code",
   "execution_count": 180,
   "metadata": {
    "colab": {
     "base_uri": "https://localhost:8080/",
     "height": 35
    },
    "executionInfo": {
     "elapsed": 19,
     "status": "ok",
     "timestamp": 1719494388503,
     "user": {
      "displayName": "Raza Naqvi",
      "userId": "12146852269828556796"
     },
     "user_tz": -300
    },
    "id": "FFPwdtDLr_jf",
    "outputId": "072f3be4-64cb-40f8-ea94-4e7d100f2333"
   },
   "outputs": [
    {
     "data": {
      "text/plain": [
       "'Our vocabulary has 8041 unique elements'"
      ]
     },
     "execution_count": 180,
     "metadata": {},
     "output_type": "execute_result"
    }
   ],
   "source": [
    "f\"Our vocabulary has {len(model.wv.index_to_key)} unique elements\""
   ]
  },
  {
   "cell_type": "code",
   "execution_count": 181,
   "metadata": {
    "colab": {
     "base_uri": "https://localhost:8080/"
    },
    "executionInfo": {
     "elapsed": 17,
     "status": "ok",
     "timestamp": 1719494388503,
     "user": {
      "displayName": "Raza Naqvi",
      "userId": "12146852269828556796"
     },
     "user_tz": -300
    },
    "id": "fiwqDQyuseMw",
    "outputId": "02f5d3dc-3df9-416d-9895-7d51a27e0ef4"
   },
   "outputs": [
    {
     "data": {
      "text/plain": [
       "[('nokia', 0.9997586011886597),\n",
       " ('claim', 0.9997364282608032),\n",
       " ('call', 0.999716579914093),\n",
       " ('tone', 0.9997152090072632),\n",
       " ('latest', 0.9997027516365051),\n",
       " ('reply', 0.9996999502182007),\n",
       " ('txt', 0.9996952414512634),\n",
       " ('min', 0.9996806979179382),\n",
       " ('phone', 0.9996801018714905),\n",
       " ('100', 0.999674379825592)]"
      ]
     },
     "execution_count": 181,
     "metadata": {},
     "output_type": "execute_result"
    }
   ],
   "source": [
    "model.wv.most_similar(\"free\")"
   ]
  },
  {
   "cell_type": "code",
   "execution_count": 182,
   "metadata": {
    "colab": {
     "base_uri": "https://localhost:8080/"
    },
    "executionInfo": {
     "elapsed": 13,
     "status": "ok",
     "timestamp": 1719494388503,
     "user": {
      "displayName": "Raza Naqvi",
      "userId": "12146852269828556796"
     },
     "user_tz": -300
    },
    "id": "Xafwv0JFsiUf",
    "outputId": "e2e8fe3f-87c2-47e5-a6a5-322afba557ee"
   },
   "outputs": [
    {
     "data": {
      "text/plain": [
       "array([-0.36580428,  0.6335047 ,  0.12424543,  0.00707956,  0.09311942,\n",
       "       -1.1759018 ,  0.11756472,  1.3148075 , -0.5997533 , -0.3690319 ,\n",
       "       -0.24276465, -0.8217858 , -0.34456402,  0.29366398,  0.15255271,\n",
       "       -0.35137075,  0.29222834, -0.8045851 , -0.02279976, -1.2017587 ,\n",
       "        0.37601098,  0.3491304 ,  0.63024414, -0.25638908,  0.06288105,\n",
       "        0.16008808, -0.62580645, -0.4000592 , -0.58875287,  0.06558687,\n",
       "        0.6055806 ,  0.04598231,  0.34316456, -0.495738  , -0.28224275,\n",
       "        0.7379271 ,  0.01510744, -0.34935182, -0.49461412, -1.140214  ,\n",
       "        0.14754571, -0.47788277, -0.1418007 , -0.1154754 ,  0.65591   ,\n",
       "       -0.39894584, -0.30942684, -0.01508329,  0.43808052,  0.22263499,\n",
       "        0.3128155 , -0.6034301 , -0.3257202 , -0.15188956, -0.37734315,\n",
       "        0.42534235,  0.4179779 , -0.05312321, -0.49489358,  0.14921036,\n",
       "        0.16331539,  0.16870655, -0.15638372,  0.16291067, -0.698096  ,\n",
       "        0.5292605 ,  0.3168188 ,  0.6139076 , -0.72550595,  0.8088299 ,\n",
       "       -0.57104856,  0.18718594,  0.9205055 , -0.08024473,  0.4484198 ,\n",
       "        0.33641696,  0.03408427, -0.13850385, -0.6112111 ,  0.18111475,\n",
       "       -0.2224239 , -0.05186795, -0.5139828 ,  0.9543122 , -0.05962167,\n",
       "        0.0280472 ,  0.11690564,  0.6429421 ,  0.6796457 ,  0.24428624,\n",
       "        0.89449203,  0.3532825 ,  0.01910907,  0.14513049,  1.119924  ,\n",
       "        0.56815207,  0.45275947, -0.53702635,  0.1942226 , -0.05956047],\n",
       "      dtype=float32)"
      ]
     },
     "execution_count": 182,
     "metadata": {},
     "output_type": "execute_result"
    }
   ],
   "source": [
    "model.wv[\"prize\"]"
   ]
  },
  {
   "cell_type": "code",
   "execution_count": 183,
   "metadata": {
    "executionInfo": {
     "elapsed": 8,
     "status": "ok",
     "timestamp": 1719494388504,
     "user": {
      "displayName": "Raza Naqvi",
      "userId": "12146852269828556796"
     },
     "user_tz": -300
    },
    "id": "TPPHAwjH0G65"
   },
   "outputs": [],
   "source": [
    "def average_word2vec(doc):\n",
    "    return np.mean([model.wv[word] for word in doc if word in model.wv.index_to_key], axis = 0)"
   ]
  },
  {
   "cell_type": "code",
   "execution_count": 184,
   "metadata": {
    "executionInfo": {
     "elapsed": 1683,
     "status": "ok",
     "timestamp": 1719494390179,
     "user": {
      "displayName": "Raza Naqvi",
      "userId": "12146852269828556796"
     },
     "user_tz": -300
    },
    "id": "_Dat8yMkjyw-"
   },
   "outputs": [],
   "source": [
    "X = []\n",
    "\n",
    "for sentence in tokenized_sentences:\n",
    "    X.append(average_word2vec(sentence))"
   ]
  },
  {
   "cell_type": "code",
   "execution_count": 185,
   "metadata": {
    "executionInfo": {
     "elapsed": 23,
     "status": "ok",
     "timestamp": 1719494390179,
     "user": {
      "displayName": "Raza Naqvi",
      "userId": "12146852269828556796"
     },
     "user_tz": -300
    },
    "id": "1THPkiz68ilW"
   },
   "outputs": [],
   "source": [
    "for array in X:\n",
    "    if len(array.shape) == 0:\n",
    "        print(array.shape)"
   ]
  },
  {
   "cell_type": "code",
   "execution_count": 186,
   "metadata": {
    "executionInfo": {
     "elapsed": 21,
     "status": "ok",
     "timestamp": 1719494390179,
     "user": {
      "displayName": "Raza Naqvi",
      "userId": "12146852269828556796"
     },
     "user_tz": -300
    },
    "id": "6G00x7UY7hoD"
   },
   "outputs": [],
   "source": [
    "X = np.array(X)"
   ]
  },
  {
   "cell_type": "code",
   "execution_count": 187,
   "metadata": {
    "executionInfo": {
     "elapsed": 21,
     "status": "ok",
     "timestamp": 1719494390179,
     "user": {
      "displayName": "Raza Naqvi",
      "userId": "12146852269828556796"
     },
     "user_tz": -300
    },
    "id": "2JgYMfji-SwV"
   },
   "outputs": [],
   "source": [
    "y = df[\"label\"].values"
   ]
  },
  {
   "cell_type": "code",
   "execution_count": 188,
   "metadata": {
    "colab": {
     "base_uri": "https://localhost:8080/"
    },
    "executionInfo": {
     "elapsed": 21,
     "status": "ok",
     "timestamp": 1719494390180,
     "user": {
      "displayName": "Raza Naqvi",
      "userId": "12146852269828556796"
     },
     "user_tz": -300
    },
    "id": "OW1jU5CCuCzB",
    "outputId": "690b6885-fdd1-4f6e-997e-73ea29043432"
   },
   "outputs": [
    {
     "data": {
      "text/plain": [
       "((5087, 100), (5087,))"
      ]
     },
     "execution_count": 188,
     "metadata": {},
     "output_type": "execute_result"
    }
   ],
   "source": [
    "X.shape, y.shape"
   ]
  },
  {
   "cell_type": "code",
   "execution_count": 189,
   "metadata": {
    "executionInfo": {
     "elapsed": 20,
     "status": "ok",
     "timestamp": 1719494390180,
     "user": {
      "displayName": "Raza Naqvi",
      "userId": "12146852269828556796"
     },
     "user_tz": -300
    },
    "id": "dYtchLASqWAy"
   },
   "outputs": [],
   "source": [
    "X_train, X_test, y_train, y_test = train_test_split(X, y, test_size = 0.2, random_state = 0)"
   ]
  },
  {
   "cell_type": "code",
   "execution_count": 190,
   "metadata": {
    "colab": {
     "base_uri": "https://localhost:8080/"
    },
    "executionInfo": {
     "elapsed": 16,
     "status": "ok",
     "timestamp": 1719494390180,
     "user": {
      "displayName": "Raza Naqvi",
      "userId": "12146852269828556796"
     },
     "user_tz": -300
    },
    "id": "3P4m9mzCyPdP",
    "outputId": "9e65f1c2-a146-4d20-c2fd-294b8bbdea19"
   },
   "outputs": [
    {
     "data": {
      "text/plain": [
       "0    3549\n",
       "1     520\n",
       "Name: count, dtype: int64"
      ]
     },
     "execution_count": 190,
     "metadata": {},
     "output_type": "execute_result"
    }
   ],
   "source": [
    "pd.Series(y_train).value_counts()"
   ]
  },
  {
   "cell_type": "code",
   "execution_count": 191,
   "metadata": {
    "executionInfo": {
     "elapsed": 11,
     "status": "ok",
     "timestamp": 1719494390180,
     "user": {
      "displayName": "Raza Naqvi",
      "userId": "12146852269828556796"
     },
     "user_tz": -300
    },
    "id": "9SYX4Mhhybyn"
   },
   "outputs": [],
   "source": [
    "ros = RandomOverSampler()\n",
    "\n",
    "X_train, y_train = ros.fit_resample(X_train, y_train)"
   ]
  },
  {
   "cell_type": "code",
   "execution_count": 192,
   "metadata": {
    "colab": {
     "base_uri": "https://localhost:8080/"
    },
    "executionInfo": {
     "elapsed": 11,
     "status": "ok",
     "timestamp": 1719494390180,
     "user": {
      "displayName": "Raza Naqvi",
      "userId": "12146852269828556796"
     },
     "user_tz": -300
    },
    "id": "nJMIOrJ-yj0P",
    "outputId": "a77d51ae-882f-470a-fecf-0732fe42a01b"
   },
   "outputs": [
    {
     "data": {
      "text/plain": [
       "0    3549\n",
       "1    3549\n",
       "Name: count, dtype: int64"
      ]
     },
     "execution_count": 192,
     "metadata": {},
     "output_type": "execute_result"
    }
   ],
   "source": [
    "pd.Series(y_train).value_counts()"
   ]
  },
  {
   "cell_type": "markdown",
   "metadata": {},
   "source": [
    "# Naive Bayes"
   ]
  },
  {
   "cell_type": "code",
   "execution_count": 193,
   "metadata": {
    "colab": {
     "base_uri": "https://localhost:8080/",
     "height": 605
    },
    "executionInfo": {
     "elapsed": 1022,
     "status": "ok",
     "timestamp": 1719494391195,
     "user": {
      "displayName": "Raza Naqvi",
      "userId": "12146852269828556796"
     },
     "user_tz": -300
    },
    "id": "eHEUyVI9t-EV",
    "outputId": "368b95fb-87ec-48a4-dc4c-5493b012b33c"
   },
   "outputs": [
    {
     "name": "stdout",
     "output_type": "stream",
     "text": [
      "              precision    recall  f1-score   support\n",
      "\n",
      "           0       0.95      0.69      0.80       885\n",
      "           1       0.27      0.77      0.40       133\n",
      "\n",
      "    accuracy                           0.70      1018\n",
      "   macro avg       0.61      0.73      0.60      1018\n",
      "weighted avg       0.86      0.70      0.75      1018\n",
      "\n"
     ]
    },
    {
     "data": {
      "image/png": "[encoded data removed]",
      "text/plain": [
       "<Figure size 640x480 with 2 Axes>"
      ]
     },
     "metadata": {},
     "output_type": "display_data"
    }
   ],
   "source": [
    "from sklearn.naive_bayes import MultinomialNB\n",
    "\n",
    "ham_vs_spam_classifier = Pipeline([(\"scaler\", MinMaxScaler()), (\"classifier\", MultinomialNB())])\n",
    "\n",
    "ham_vs_spam_classifier.fit(X_train, y_train)\n",
    "\n",
    "predictions = ham_vs_spam_classifier.predict(X_test)\n",
    "\n",
    "print(classification_report(y_test, predictions))\n",
    "\n",
    "sns.heatmap(confusion_matrix(y_test, predictions), annot = True, fmt = \"d\")\n",
    "plt.xlabel(\"Predicted Classes\")\n",
    "plt.ylabel(\"True Classes\")\n",
    "plt.show()"
   ]
  },
  {
   "cell_type": "markdown",
   "metadata": {},
   "source": [
    "# Logistic Regression\n"
   ]
  },
  {
   "cell_type": "code",
   "execution_count": 194,
   "metadata": {
    "colab": {
     "base_uri": "https://localhost:8080/",
     "height": 764
    },
    "executionInfo": {
     "elapsed": 34,
     "status": "ok",
     "timestamp": 1719494391196,
     "user": {
      "displayName": "Raza Naqvi",
      "userId": "12146852269828556796"
     },
     "user_tz": -300
    },
    "id": "rN5W7sivNnsW",
    "outputId": "3d0ec735-046e-4f3e-f918-3c9fa98cc989"
   },
   "outputs": [
    {
     "name": "stdout",
     "output_type": "stream",
     "text": [
      "              precision    recall  f1-score   support\n",
      "\n",
      "           0       0.98      0.90      0.94       885\n",
      "           1       0.57      0.85      0.68       133\n",
      "\n",
      "    accuracy                           0.90      1018\n",
      "   macro avg       0.77      0.88      0.81      1018\n",
      "weighted avg       0.92      0.90      0.90      1018\n",
      "\n"
     ]
    },
    {
     "data": {
      "image/png": "[encoded data removed]",
      "text/plain": [
       "<Figure size 640x480 with 2 Axes>"
      ]
     },
     "metadata": {},
     "output_type": "display_data"
    }
   ],
   "source": [
    "from sklearn.linear_model import LogisticRegression\n",
    "\n",
    "ham_vs_spam_classifier1 = Pipeline([(\"scaler\", MinMaxScaler()), (\"classifier\", LogisticRegression())])\n",
    "\n",
    "ham_vs_spam_classifier1.fit(X_train, y_train)\n",
    "\n",
    "predictions = ham_vs_spam_classifier1.predict(X_test)\n",
    "\n",
    "print(classification_report(y_test, predictions))\n",
    "\n",
    "sns.heatmap(confusion_matrix(y_test, predictions), annot = True, fmt = \"d\")\n",
    "plt.xlabel(\"Predicted Classes\")\n",
    "plt.ylabel(\"True Classes\")\n",
    "plt.show()"
   ]
  },
  {
   "cell_type": "markdown",
   "metadata": {},
   "source": [
    "# Decision Tree Classifier"
   ]
  },
  {
   "cell_type": "code",
   "execution_count": 195,
   "metadata": {
    "colab": {
     "base_uri": "https://localhost:8080/",
     "height": 605
    },
    "executionInfo": {
     "elapsed": 677,
     "status": "ok",
     "timestamp": 1719494391844,
     "user": {
      "displayName": "Raza Naqvi",
      "userId": "12146852269828556796"
     },
     "user_tz": -300
    },
    "id": "Gktz_hK4N7mR",
    "outputId": "9166310f-e859-4030-c7e5-8e022dea8852"
   },
   "outputs": [
    {
     "name": "stdout",
     "output_type": "stream",
     "text": [
      "              precision    recall  f1-score   support\n",
      "\n",
      "           0       0.96      0.95      0.95       885\n",
      "           1       0.68      0.74      0.71       133\n",
      "\n",
      "    accuracy                           0.92      1018\n",
      "   macro avg       0.82      0.84      0.83      1018\n",
      "weighted avg       0.92      0.92      0.92      1018\n",
      "\n"
     ]
    },
    {
     "data": {
      "image/png": "[encoded data removed]",
      "text/plain": [
       "<Figure size 640x480 with 2 Axes>"
      ]
     },
     "metadata": {},
     "output_type": "display_data"
    }
   ],
   "source": [
    "from sklearn.tree import DecisionTreeClassifier\n",
    "\n",
    "ham_vs_spam_classifier2 = Pipeline([(\"scaler\", MinMaxScaler()), (\"classifier\", DecisionTreeClassifier())])\n",
    "\n",
    "ham_vs_spam_classifier2.fit(X_train, y_train)\n",
    "\n",
    "predictions = ham_vs_spam_classifier2.predict(X_test)\n",
    "\n",
    "print(classification_report(y_test, predictions))\n",
    "\n",
    "sns.heatmap(confusion_matrix(y_test, predictions), annot = True, fmt = \"d\")\n",
    "plt.xlabel(\"Predicted Classes\")\n",
    "plt.ylabel(\"True Classes\")\n",
    "plt.show()"
   ]
  },
  {
   "cell_type": "markdown",
   "metadata": {},
   "source": [
    "# Random Forest Classifier"
   ]
  },
  {
   "cell_type": "code",
   "execution_count": 196,
   "metadata": {
    "colab": {
     "base_uri": "https://localhost:8080/",
     "height": 605
    },
    "executionInfo": {
     "elapsed": 4370,
     "status": "ok",
     "timestamp": 1719494396209,
     "user": {
      "displayName": "Raza Naqvi",
      "userId": "12146852269828556796"
     },
     "user_tz": -300
    },
    "id": "6Ot2ao5SOOi-",
    "outputId": "45111952-d3c6-401b-f794-f9e4f6fce53c"
   },
   "outputs": [
    {
     "name": "stdout",
     "output_type": "stream",
     "text": [
      "              precision    recall  f1-score   support\n",
      "\n",
      "           0       0.96      0.99      0.98       885\n",
      "           1       0.89      0.76      0.82       133\n",
      "\n",
      "    accuracy                           0.96      1018\n",
      "   macro avg       0.93      0.87      0.90      1018\n",
      "weighted avg       0.96      0.96      0.96      1018\n",
      "\n"
     ]
    },
    {
     "data": {
      "image/png": "[encoded data removed]",
      "text/plain": [
       "<Figure size 640x480 with 2 Axes>"
      ]
     },
     "metadata": {},
     "output_type": "display_data"
    }
   ],
   "source": [
    "from sklearn.ensemble import RandomForestClassifier\n",
    "\n",
    "ham_vs_spam_classifier3 = Pipeline([(\"scaler\", MinMaxScaler()), (\"classifier\", RandomForestClassifier())])\n",
    "\n",
    "ham_vs_spam_classifier3.fit(X_train, y_train)\n",
    "\n",
    "predictions = ham_vs_spam_classifier3.predict(X_test)\n",
    "\n",
    "print(classification_report(y_test, predictions))\n",
    "\n",
    "sns.heatmap(confusion_matrix(y_test, predictions), annot = True, fmt = \"d\")\n",
    "plt.xlabel(\"Predicted Classes\")\n",
    "plt.ylabel(\"True Classes\")\n",
    "plt.show()"
   ]
  },
  {
   "cell_type": "code",
   "execution_count": 197,
   "metadata": {
    "executionInfo": {
     "elapsed": 569,
     "status": "ok",
     "timestamp": 1719494454891,
     "user": {
      "displayName": "Raza Naqvi",
      "userId": "12146852269828556796"
     },
     "user_tz": -300
    },
    "id": "DjhtMTHg_-ni"
   },
   "outputs": [],
   "source": [
    "def predict(text):\n",
    "    cleaned_text = clean_text(text)\n",
    "    preprocessed_text = preprocess_text(cleaned_text)\n",
    "    tokenized_text = word_tokenize(preprocessed_text)\n",
    "    mean_vector = average_word2vec(tokenized_text)\n",
    "    if np.isnan(mean_vector).any():\n",
    "        return \"The message is spam\"\n",
    "    prediction = ham_vs_spam_classifier.predict([mean_vector])\n",
    "    if prediction == 0:\n",
    "        return \"The message is ham\"\n",
    "    else:\n",
    "        return \"The message is spam\""
   ]
  },
  {
   "cell_type": "code",
   "execution_count": 230,
   "metadata": {
    "colab": {
     "base_uri": "https://localhost:8080/",
     "height": 35
    },
    "executionInfo": {
     "elapsed": 750,
     "status": "ok",
     "timestamp": 1719494491980,
     "user": {
      "displayName": "Raza Naqvi",
      "userId": "12146852269828556796"
     },
     "user_tz": -300
    },
    "id": "qmOIoQWhBjGP",
    "outputId": "30987996-7270-49fa-fe8d-ef27d80ea815"
   },
   "outputs": [
    {
     "name": "stdout",
     "output_type": "stream",
     "text": [
      "The message is ham\n"
     ]
    }
   ],
   "source": [
    "print(predict(\"my name is raza jaun\"))"
   ]
  },
  {
   "cell_type": "code",
   "execution_count": 199,
   "metadata": {
    "executionInfo": {
     "elapsed": 572,
     "status": "ok",
     "timestamp": 1719494495984,
     "user": {
      "displayName": "Raza Naqvi",
      "userId": "12146852269828556796"
     },
     "user_tz": -300
    },
    "id": "XFJwNX89r7FF"
   },
   "outputs": [],
   "source": [
    "os.makedirs(\"./model\")\n",
    "model.save(\"./model/hamvsspamword2vec.model\")"
   ]
  },
  {
   "cell_type": "code",
   "execution_count": 200,
   "metadata": {
    "colab": {
     "base_uri": "https://localhost:8080/"
    },
    "executionInfo": {
     "elapsed": 6,
     "status": "ok",
     "timestamp": 1719494496968,
     "user": {
      "displayName": "Raza Naqvi",
      "userId": "12146852269828556796"
     },
     "user_tz": -300
    },
    "id": "Mf2R7V80xNQ9",
    "outputId": "cd12cf4d-315a-42ab-a71f-8015b1f8b6fd"
   },
   "outputs": [
    {
     "data": {
      "text/plain": [
       "['./model/hamvsspamclassifier.pkl']"
      ]
     },
     "execution_count": 200,
     "metadata": {},
     "output_type": "execute_result"
    }
   ],
   "source": [
    "joblib.dump(ham_vs_spam_classifier, \"./model/hamvsspamclassifier.pkl\")"
   ]
  },
  {
   "cell_type": "code",
   "execution_count": null,
   "metadata": {
    "executionInfo": {
     "elapsed": 28,
     "status": "aborted",
     "timestamp": 1719494341981,
     "user": {
      "displayName": "Raza Naqvi",
      "userId": "12146852269828556796"
     },
     "user_tz": -300
    },
    "id": "fQbkOGpAzuNl"
   },
   "outputs": [],
   "source": []
  }
 ],
 "metadata": {
  "accelerator": "GPU",
  "colab": {
   "authorship_tag": "ABX9TyO+TAHkhocDR3YJSHWC7cja",
   "gpuType": "T4",
   "mount_file_id": "1D0poycdwINo5qM4oet6cP-_uGp0esEa7",
   "provenance": []
  },
  "kernelspec": {
   "display_name": "Python 3",
   "name": "python3"
  },
  "language_info": {
   "codemirror_mode": {
    "name": "ipython",
    "version": 3
   },
   "file_extension": ".py",
   "mimetype": "text/x-python",
   "name": "python",
   "nbconvert_exporter": "python",
   "pygments_lexer": "ipython3",
   "version": "3.11.9"
  }
 },
 "nbformat": 4,
 "nbformat_minor": 0
}
